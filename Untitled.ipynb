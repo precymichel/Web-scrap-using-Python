{
 "cells": [
  {
   "cell_type": "code",
   "execution_count": 14,
   "id": "9db4f7df-2cc4-4bd9-8c49-f5ada1eb858d",
   "metadata": {},
   "outputs": [],
   "source": [
    "import pandas as pd"
   ]
  },
  {
   "cell_type": "code",
   "execution_count": 15,
   "id": "b49819c3-2c59-4bd3-b524-916ce672bdce",
   "metadata": {},
   "outputs": [
    {
     "name": "stdout",
     "output_type": "stream",
     "text": [
      "✅ Total tables found: 91\n"
     ]
    }
   ],
   "source": [
    "url = 'https://en.wikipedia.org/wiki/List_of_One_Day_International_cricket_records'\n",
    "tables = pd.read_html(url)\n",
    "print(f\"✅ Total tables found: {len(tables)}\")"
   ]
  },
  {
   "cell_type": "code",
   "execution_count": 16,
   "id": "f4cb2c9c-4a28-46a8-a9bb-395fffab6cb9",
   "metadata": {},
   "outputs": [
    {
     "name": "stdout",
     "output_type": "stream",
     "text": [
      "\n",
      "✅ Table 17 looks good.\n",
      "Columns: ['Rank', 'Runs', 'Inn.', 'Player', 'Team', 'Average', '100', '50', 'Period']\n"
     ]
    }
   ],
   "source": [
    "for i, table in enumerate(tables):\n",
    "    columns = [col.lower() for col in table.columns.astype(str)]\n",
    "    if any('run' in col for col in columns):\n",
    "        print(f\"\\n✅ Table {i} looks good.\")\n",
    "        print(\"Columns:\", table.columns.tolist())\n",
    "        df = table\n",
    "        break\n",
    "else:\n",
    "    raise ValueError(\"❌ No table with 'Runs' found!\")"
   ]
  },
  {
   "cell_type": "code",
   "execution_count": 17,
   "id": "7bb109ab-2df1-4a2a-acc6-9a22ec669f84",
   "metadata": {},
   "outputs": [
    {
     "name": "stdout",
     "output_type": "stream",
     "text": [
      "\n",
      "🎯 Using 'Runs' column for runs.\n"
     ]
    }
   ],
   "source": [
    "# Step 3: Find column with 'Runs' in name\n",
    "runs_col = [col for col in df.columns if 'Run' in str(col)][0]\n",
    "print(f\"\\n🎯 Using '{runs_col}' column for runs.\")\n"
   ]
  },
  {
   "cell_type": "code",
   "execution_count": 18,
   "id": "bdd98883-d737-42f1-9a62-a7fcaf273886",
   "metadata": {},
   "outputs": [],
   "source": [
    "# Step 4: Clean and convert Runs column\n",
    "df[runs_col] = df[runs_col].astype(str).str.replace(',', '').str.extract('(\\d+)', expand=False)\n",
    "df[runs_col] = pd.to_numeric(df[runs_col], errors='coerce')"
   ]
  },
  {
   "cell_type": "code",
   "execution_count": 19,
   "id": "f9557a29-9dd4-4335-9d5e-8e30f390df0e",
   "metadata": {},
   "outputs": [
    {
     "name": "stdout",
     "output_type": "stream",
     "text": [
      "\n",
      "🏏 Highest ODI Run Scorer:\n",
      "Player    Sachin Tendulkar\n",
      "Runs                 18426\n",
      "Name: 0, dtype: object\n"
     ]
    }
   ],
   "source": [
    "top_scorer = df.loc[df[runs_col].idxmax()]\n",
    "print(\"\\n🏏 Highest ODI Run Scorer:\")\n",
    "print(top_scorer[['Player', runs_col]])"
   ]
  },
  {
   "cell_type": "code",
   "execution_count": 22,
   "id": "aa9085a9-c07e-40b7-a739-c8770071a598",
   "metadata": {},
   "outputs": [
    {
     "name": "stdout",
     "output_type": "stream",
     "text": [
      "\n",
      "🏅 Top 5 ODI Run Scorers:\n",
      "                           Player   Runs\n",
      "0                Sachin Tendulkar  18426\n",
      "1                Kumar Sangakkara  14234\n",
      "2                     Virat Kohli  14181\n",
      "3                   Ricky Ponting  13704\n",
      "4               Sanath Jayasuriya  13430\n",
      "5  Last updated: 9 March 2025[34]      9\n"
     ]
    }
   ],
   "source": [
    "# Step 6: Top 10\n",
    "top_5 = df.sort_values(by=runs_col, ascending=False).head(10)\n",
    "print(\"\\n🏅 Top 5 ODI Run Scorers:\")\n",
    "print(top_10[['Player', runs_col]])"
   ]
  },
  {
   "cell_type": "code",
   "execution_count": 23,
   "id": "3006794b-cca4-42f0-bb85-de44209ab31b",
   "metadata": {},
   "outputs": [],
   "source": [
    "runs_col = [col for col in df.columns if 'Run' in col][0]"
   ]
  },
  {
   "cell_type": "code",
   "execution_count": 26,
   "id": "6a01dd5b-7eb8-4289-a210-287eb539a708",
   "metadata": {},
   "outputs": [],
   "source": [
    "df[runs_col] = (\n",
    "    df[runs_col].astype(str)\n",
    "    .str.replace(',', '', regex=False)\n",
    "    .str.extract(r'(\\d+)', expand=False)\n",
    ")\n",
    "df[runs_col] = pd.to_numeric(df[runs_col], errors='coerce')"
   ]
  },
  {
   "cell_type": "code",
   "execution_count": 27,
   "id": "27a89468-249b-4a9f-8a4b-8b6632ac0df4",
   "metadata": {},
   "outputs": [
    {
     "ename": "NameError",
     "evalue": "name 'df_clean' is not defined",
     "output_type": "error",
     "traceback": [
      "\u001b[1;31m---------------------------------------------------------------------------\u001b[0m",
      "\u001b[1;31mNameError\u001b[0m                                 Traceback (most recent call last)",
      "Cell \u001b[1;32mIn[27], line 1\u001b[0m\n\u001b[1;32m----> 1\u001b[0m df_clean \u001b[38;5;241m=\u001b[39m \u001b[43mdf_clean\u001b[49m\u001b[38;5;241m.\u001b[39msort_values(by\u001b[38;5;241m=\u001b[39mruns_col, ascending\u001b[38;5;241m=\u001b[39m\u001b[38;5;28;01mFalse\u001b[39;00m)\u001b[38;5;241m.\u001b[39mreset_index(drop\u001b[38;5;241m=\u001b[39m\u001b[38;5;28;01mTrue\u001b[39;00m)\n\u001b[0;32m      2\u001b[0m df_clean[\u001b[38;5;124m'\u001b[39m\u001b[38;5;124mRank\u001b[39m\u001b[38;5;124m'\u001b[39m] \u001b[38;5;241m=\u001b[39m df_clean\u001b[38;5;241m.\u001b[39mindex \u001b[38;5;241m+\u001b[39m \u001b[38;5;241m1\u001b[39m  \u001b[38;5;66;03m# Rank starts from 1\u001b[39;00m\n",
      "\u001b[1;31mNameError\u001b[0m: name 'df_clean' is not defined"
     ]
    }
   ],
   "source": [
    "df_clean = df_clean.sort_values(by=runs_col, ascending=False).reset_index(drop=True)\n",
    "df_clean['Rank'] = df_clean.index + 1  # Rank starts from 1\n"
   ]
  },
  {
   "cell_type": "code",
   "execution_count": null,
   "id": "86ee942c-c112-432f-8c54-e5c964f84501",
   "metadata": {},
   "outputs": [],
   "source": []
  }
 ],
 "metadata": {
  "kernelspec": {
   "display_name": "Python 3 (ipykernel)",
   "language": "python",
   "name": "python3"
  },
  "language_info": {
   "codemirror_mode": {
    "name": "ipython",
    "version": 3
   },
   "file_extension": ".py",
   "mimetype": "text/x-python",
   "name": "python",
   "nbconvert_exporter": "python",
   "pygments_lexer": "ipython3",
   "version": "3.11.3"
  }
 },
 "nbformat": 4,
 "nbformat_minor": 5
}
